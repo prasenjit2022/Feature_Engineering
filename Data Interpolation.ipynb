{
 "cells": [
  {
   "cell_type": "markdown",
   "id": "d596adae",
   "metadata": {},
   "source": [
    "# Linear Interpolation"
   ]
  },
  {
   "cell_type": "code",
   "execution_count": 3,
   "id": "32acbb6e",
   "metadata": {},
   "outputs": [],
   "source": [
    "## Linear Interpolation\n",
    "import numpy as np\n",
    "x=np.array([1,2,3,4,5])\n",
    "y=np.array([2,3,4,6,8])"
   ]
  },
  {
   "cell_type": "code",
   "execution_count": 4,
   "id": "39082255",
   "metadata": {},
   "outputs": [
    {
     "data": {
      "text/plain": [
       "<matplotlib.collections.PathCollection at 0x2adcba8c280>"
      ]
     },
     "execution_count": 4,
     "metadata": {},
     "output_type": "execute_result"
    },
    {
     "data": {
      "image/png": "[encoded data removed]",
      "text/plain": [
       "<Figure size 432x288 with 1 Axes>"
      ]
     },
     "metadata": {
      "needs_background": "light"
     },
     "output_type": "display_data"
    }
   ],
   "source": [
    "import matplotlib.pyplot as plt\n",
    "plt.scatter(x,y)"
   ]
  },
  {
   "cell_type": "code",
   "execution_count": 6,
   "id": "d57c12e6",
   "metadata": {},
   "outputs": [],
   "source": [
    "x_new=np.linspace(1,5,10)\n",
    "y_interp=np.interp(x_new,x,y)"
   ]
  },
  {
   "cell_type": "code",
   "execution_count": 7,
   "id": "c219d368",
   "metadata": {},
   "outputs": [
    {
     "data": {
      "text/plain": [
       "<matplotlib.collections.PathCollection at 0x2adccbc5520>"
      ]
     },
     "execution_count": 7,
     "metadata": {},
     "output_type": "execute_result"
    },
    {
     "data": {
      "image/png": "[encoded data removed]",
      "text/plain": [
       "<Figure size 432x288 with 1 Axes>"
      ]
     },
     "metadata": {
      "needs_background": "light"
     },
     "output_type": "display_data"
    }
   ],
   "source": [
    "plt.scatter(x_new,y_interp)"
   ]
  },
  {
   "cell_type": "markdown",
   "id": "c5c99ee0",
   "metadata": {},
   "source": [
    "# Cubic Interpolation with Scipy"
   ]
  },
  {
   "cell_type": "code",
   "execution_count": 9,
   "id": "75a224b9",
   "metadata": {},
   "outputs": [],
   "source": [
    "import numpy as np\n",
    "x=np.array([1,2,3,4,5])\n",
    "y=np.array([1,8,27,64,124])"
   ]
  },
  {
   "cell_type": "code",
   "execution_count": 10,
   "id": "1908692b",
   "metadata": {},
   "outputs": [],
   "source": [
    "from scipy.interpolate import interp1d"
   ]
  },
  {
   "cell_type": "code",
   "execution_count": 11,
   "id": "d2ad4bc9",
   "metadata": {},
   "outputs": [],
   "source": [
    "#create a cubic interpolation function\n",
    "f=interp1d(x,y,kind='cubic')"
   ]
  },
  {
   "cell_type": "code",
   "execution_count": 13,
   "id": "b3792436",
   "metadata": {},
   "outputs": [],
   "source": [
    "# interpolate the data\n",
    "x_new=np.linspace(1,5,10)\n",
    "y_interp=f(x_new)"
   ]
  },
  {
   "cell_type": "code",
   "execution_count": 16,
   "id": "500eb260",
   "metadata": {},
   "outputs": [
    {
     "data": {
      "text/plain": [
       "<matplotlib.collections.PathCollection at 0x2ade71a0f40>"
      ]
     },
     "execution_count": 16,
     "metadata": {},
     "output_type": "execute_result"
    },
    {
     "data": {
      "image/png": "[encoded data removed]",
      "text/plain": [
       "<Figure size 432x288 with 1 Axes>"
      ]
     },
     "metadata": {
      "needs_background": "light"
     },
     "output_type": "display_data"
    }
   ],
   "source": [
    "plt.scatter(x,y)"
   ]
  },
  {
   "cell_type": "code",
   "execution_count": 17,
   "id": "0cc4e729",
   "metadata": {},
   "outputs": [
    {
     "data": {
      "text/plain": [
       "<matplotlib.collections.PathCollection at 0x2ade71fe3d0>"
      ]
     },
     "execution_count": 17,
     "metadata": {},
     "output_type": "execute_result"
    },
    {
     "data": {
      "image/png": "[encoded data removed]",
      "text/plain": [
       "<Figure size 432x288 with 1 Axes>"
      ]
     },
     "metadata": {
      "needs_background": "light"
     },
     "output_type": "display_data"
    }
   ],
   "source": [
    "plt.scatter(x_new,y_interp)"
   ]
  },
  {
   "cell_type": "code",
   "execution_count": null,
   "id": "1b83a8b7",
   "metadata": {},
   "outputs": [],
   "source": []
  }
 ],
 "metadata": {
  "kernelspec": {
   "display_name": "Python 3 (ipykernel)",
   "language": "python",
   "name": "python3"
  },
  "language_info": {
   "codemirror_mode": {
    "name": "ipython",
    "version": 3
   },
   "file_extension": ".py",
   "mimetype": "text/x-python",
   "name": "python",
   "nbconvert_exporter": "python",
   "pygments_lexer": "ipython3",
   "version": "3.9.12"
  }
 },
 "nbformat": 4,
 "nbformat_minor": 5
}
